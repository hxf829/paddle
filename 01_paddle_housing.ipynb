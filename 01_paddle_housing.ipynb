{
  "nbformat": 4,
  "nbformat_minor": 0,
  "metadata": {
    "colab": {
      "name": "01-paddle-housing.ipynb",
      "provenance": [],
      "collapsed_sections": [],
      "authorship_tag": "ABX9TyM4QyS6VoJqCI5pIdhmeNwL",
      "include_colab_link": true
    },
    "kernelspec": {
      "name": "python3",
      "display_name": "Python 3"
    }
  },
  "cells": [
    {
      "cell_type": "markdown",
      "metadata": {
        "id": "view-in-github",
        "colab_type": "text"
      },
      "source": [
        "<a href=\"https://colab.research.google.com/github/hxf829/paddle/blob/main/01_paddle_housing.ipynb\" target=\"_parent\"><img src=\"https://colab.research.google.com/assets/colab-badge.svg\" alt=\"Open In Colab\"/></a>"
      ]
    },
    {
      "cell_type": "code",
      "metadata": {
        "id": "LNMytTd8HtVX",
        "colab": {
          "base_uri": "https://localhost:8080/"
        },
        "outputId": "fd775bd1-2253-42a6-a464-e6b18af03e22"
      },
      "source": [
        "!pip install paddlepaddle"
      ],
      "execution_count": 171,
      "outputs": [
        {
          "output_type": "stream",
          "text": [
            "Requirement already satisfied: paddlepaddle in /usr/local/lib/python3.6/dist-packages (1.8.5)\n",
            "Requirement already satisfied: pathlib in /usr/local/lib/python3.6/dist-packages (from paddlepaddle) (1.0.1)\n",
            "Requirement already satisfied: opencv-python<=4.2.0.32 in /usr/local/lib/python3.6/dist-packages (from paddlepaddle) (4.1.2.30)\n",
            "Requirement already satisfied: numpy>=1.12; python_version >= \"3.5\" in /usr/local/lib/python3.6/dist-packages (from paddlepaddle) (1.18.5)\n",
            "Requirement already satisfied: requests>=2.20.0 in /usr/local/lib/python3.6/dist-packages (from paddlepaddle) (2.23.0)\n",
            "Requirement already satisfied: gast==0.3.3 in /usr/local/lib/python3.6/dist-packages (from paddlepaddle) (0.3.3)\n",
            "Requirement already satisfied: pyyaml in /usr/local/lib/python3.6/dist-packages (from paddlepaddle) (3.13)\n",
            "Requirement already satisfied: protobuf>=3.1.0 in /usr/local/lib/python3.6/dist-packages (from paddlepaddle) (3.12.4)\n",
            "Requirement already satisfied: objgraph in /usr/local/lib/python3.6/dist-packages (from paddlepaddle) (3.5.0)\n",
            "Requirement already satisfied: rarfile in /usr/local/lib/python3.6/dist-packages (from paddlepaddle) (4.0)\n",
            "Requirement already satisfied: graphviz in /usr/local/lib/python3.6/dist-packages (from paddlepaddle) (0.10.1)\n",
            "Requirement already satisfied: Pillow in /usr/local/lib/python3.6/dist-packages (from paddlepaddle) (7.0.0)\n",
            "Requirement already satisfied: prettytable in /usr/local/lib/python3.6/dist-packages (from paddlepaddle) (2.0.0)\n",
            "Requirement already satisfied: nltk; python_version >= \"3.5\" in /usr/local/lib/python3.6/dist-packages (from paddlepaddle) (3.2.5)\n",
            "Requirement already satisfied: decorator in /usr/local/lib/python3.6/dist-packages (from paddlepaddle) (4.4.2)\n",
            "Requirement already satisfied: matplotlib; python_version >= \"3.6\" in /usr/local/lib/python3.6/dist-packages (from paddlepaddle) (3.2.2)\n",
            "Requirement already satisfied: astor in /usr/local/lib/python3.6/dist-packages (from paddlepaddle) (0.8.1)\n",
            "Requirement already satisfied: scipy; python_version > \"3.5\" in /usr/local/lib/python3.6/dist-packages (from paddlepaddle) (1.4.1)\n",
            "Requirement already satisfied: six in /usr/local/lib/python3.6/dist-packages (from paddlepaddle) (1.15.0)\n",
            "Requirement already satisfied: funcsigs in /usr/local/lib/python3.6/dist-packages (from paddlepaddle) (1.0.2)\n",
            "Requirement already satisfied: idna<3,>=2.5 in /usr/local/lib/python3.6/dist-packages (from requests>=2.20.0->paddlepaddle) (2.10)\n",
            "Requirement already satisfied: chardet<4,>=3.0.2 in /usr/local/lib/python3.6/dist-packages (from requests>=2.20.0->paddlepaddle) (3.0.4)\n",
            "Requirement already satisfied: certifi>=2017.4.17 in /usr/local/lib/python3.6/dist-packages (from requests>=2.20.0->paddlepaddle) (2020.11.8)\n",
            "Requirement already satisfied: urllib3!=1.25.0,!=1.25.1,<1.26,>=1.21.1 in /usr/local/lib/python3.6/dist-packages (from requests>=2.20.0->paddlepaddle) (1.24.3)\n",
            "Requirement already satisfied: setuptools in /usr/local/lib/python3.6/dist-packages (from protobuf>=3.1.0->paddlepaddle) (50.3.2)\n",
            "Requirement already satisfied: wcwidth in /usr/local/lib/python3.6/dist-packages (from prettytable->paddlepaddle) (0.2.5)\n",
            "Requirement already satisfied: python-dateutil>=2.1 in /usr/local/lib/python3.6/dist-packages (from matplotlib; python_version >= \"3.6\"->paddlepaddle) (2.8.1)\n",
            "Requirement already satisfied: kiwisolver>=1.0.1 in /usr/local/lib/python3.6/dist-packages (from matplotlib; python_version >= \"3.6\"->paddlepaddle) (1.3.1)\n",
            "Requirement already satisfied: cycler>=0.10 in /usr/local/lib/python3.6/dist-packages (from matplotlib; python_version >= \"3.6\"->paddlepaddle) (0.10.0)\n",
            "Requirement already satisfied: pyparsing!=2.0.4,!=2.1.2,!=2.1.6,>=2.0.1 in /usr/local/lib/python3.6/dist-packages (from matplotlib; python_version >= \"3.6\"->paddlepaddle) (2.4.7)\n"
          ],
          "name": "stdout"
        }
      ]
    },
    {
      "cell_type": "code",
      "metadata": {
        "id": "LRnKoqJe0sYG"
      },
      "source": [
        "import paddle\n",
        "import pandas as pd\n",
        "import numpy as np\n",
        "import seaborn as sns\n",
        "import matplotlib.pyplot as plt"
      ],
      "execution_count": 172,
      "outputs": []
    },
    {
      "cell_type": "code",
      "metadata": {
        "colab": {
          "base_uri": "https://localhost:8080/",
          "height": 35
        },
        "id": "8aUBwIgg0t-q",
        "outputId": "e57212d5-9c24-416b-aefb-b13ac07d7022"
      },
      "source": [
        "paddle.__version__"
      ],
      "execution_count": 173,
      "outputs": [
        {
          "output_type": "execute_result",
          "data": {
            "application/vnd.google.colaboratory.intrinsic+json": {
              "type": "string"
            },
            "text/plain": [
              "'1.8.5'"
            ]
          },
          "metadata": {
            "tags": []
          },
          "execution_count": 173
        }
      ]
    },
    {
      "cell_type": "code",
      "metadata": {
        "id": "bZOiI6v70vky"
      },
      "source": [
        "train_data = np.asarray(pd.read_csv('./sample_data/california_housing_train.csv'))\n",
        "test_data = np.asarray(pd.read_csv('./sample_data/california_housing_test.csv'))"
      ],
      "execution_count": 174,
      "outputs": []
    },
    {
      "cell_type": "code",
      "metadata": {
        "colab": {
          "base_uri": "https://localhost:8080/"
        },
        "id": "mM5xQV3O2WCO",
        "outputId": "c1c9631f-e2ab-4ac9-963e-d9db6b46ad28"
      },
      "source": [
        "t_data = pd.read_csv('./sample_data/california_housing_train.csv')\n",
        "#t_data = pd.read_csv('./sample_data/california_housing_test.csv')\n",
        "t_data.shape\n",
        "#t_data.latitude\n",
        "#sns.scatterplot(y=t_data.population, x=t_data.median_house_value)\n",
        "#sns.pointplot(data=t_data.housing_median_age)"
      ],
      "execution_count": 175,
      "outputs": [
        {
          "output_type": "execute_result",
          "data": {
            "text/plain": [
              "(17000, 9)"
            ]
          },
          "metadata": {
            "tags": []
          },
          "execution_count": 175
        }
      ]
    },
    {
      "cell_type": "code",
      "metadata": {
        "colab": {
          "base_uri": "https://localhost:8080/"
        },
        "id": "J1vkS_5X3jtP",
        "outputId": "d57f6afc-0ae8-4db5-e5f2-85bf7c2e5e9b"
      },
      "source": [
        "maxmums, minmums, means = train_data.max(axis=0), train_data.min(axis=0), train_data.mean(axis=0)\n",
        "for i in range(train_data[0].shape[0]):\n",
        "    train_data[:, i] = (train_data[:, i] - minmums[i]) / (maxmums[i] - minmums[i] + 1e-05) \n",
        "for i in range(test_data[0].shape[0]):\n",
        "    test_data[:, i] = (test_data[:, i] - minmums[i]) / (maxmums[i] - minmums[i] + 1e-05) \n",
        "print(train_data.shape, test_data.shape)"
      ],
      "execution_count": 176,
      "outputs": [
        {
          "output_type": "stream",
          "text": [
            "(17000, 9) (3000, 9)\n"
          ],
          "name": "stdout"
        }
      ]
    },
    {
      "cell_type": "code",
      "metadata": {
        "colab": {
          "base_uri": "https://localhost:8080/"
        },
        "id": "Hi8s2ySE6Y7r",
        "outputId": "6e8bbb27-7c36-43cc-81fc-18d1472558f7"
      },
      "source": [
        "train_x = train_data[:,:-1]\n",
        "train_y = train_data[:,-1:]\n",
        "print(train_data[0])\n",
        "print(train_x[0])\n",
        "print(train_x[0].shape)\n",
        "print(train_y)"
      ],
      "execution_count": 177,
      "outputs": [
        {
          "output_type": "stream",
          "text": [
            "[0.999999   0.17534519 0.27450975 0.14788454 0.19894475 0.02836402\n",
            " 0.07745437 0.06853004 0.10701193]\n",
            "[0.999999   0.17534519 0.27450975 0.14788454 0.19894475 0.02836402\n",
            " 0.07745437 0.06853004]\n",
            "(8,)\n",
            "[[0.10701193]\n",
            " [0.13422831]\n",
            " [0.14577466]\n",
            " ...\n",
            " [0.18268172]\n",
            " [0.14598084]\n",
            " [0.1641251 ]]\n"
          ],
          "name": "stdout"
        }
      ]
    },
    {
      "cell_type": "code",
      "metadata": {
        "colab": {
          "base_uri": "https://localhost:8080/"
        },
        "id": "rqaeoyWBC6qz",
        "outputId": "81ddc349-7f9b-4b59-b780-045c58dd44ae"
      },
      "source": [
        "#model\n",
        "#y = W*x + b\n",
        "w = np.asarray([0.1,0.1,0.1,0.1,0.1,0.1,0.1,0.1]).reshape([8,1])\n",
        "b = 0.01\n",
        "y = np.dot(train_x[0], w) + b\n",
        "print(w,b)\n",
        "print(y)\n",
        "print(\"mse\", np.square(np.subtract(y, train_y[0])).mean() )"
      ],
      "execution_count": 178,
      "outputs": [
        {
          "output_type": "stream",
          "text": [
            "[[0.1]\n",
            " [0.1]\n",
            " [0.1]\n",
            " [0.1]\n",
            " [0.1]\n",
            " [0.1]\n",
            " [0.1]\n",
            " [0.1]] 0.01\n",
            "[0.20710317]\n",
            "mse 0.010018255762399097\n"
          ],
          "name": "stdout"
        }
      ]
    },
    {
      "cell_type": "code",
      "metadata": {
        "id": "BKg7hNkPEzKU"
      },
      "source": [
        "class SimpleNetwork(object):\n",
        "    def __init__(self, feature_nums):\n",
        "        self.b = 0.01\n",
        "        np.random.seed(0)\n",
        "        self.w = np.random.randn(feature_nums, 1)\n",
        "    def forward(self, x):\n",
        "        return np.dot(x, self.w) + self.b\n",
        "    def loss(self, y1, y2):\n",
        "        return np.square(np.subtract(y1, y2)).mean()\n",
        "    def gradient(self, x, y):\n",
        "        z = self.forward(x)\n",
        "        l = self.loss(z, y)\n",
        "        gradient_w = (z-y)*x\n",
        "        gradient_w = np.mean(gradient_w, axis=0)\n",
        "        #gradient_w = gradient_w[:, np.newaxis]\n",
        "        gradient_w = gradient_w.reshape(gradient_w.shape[0],1)\n",
        "        gradient_b = (z - y)\n",
        "        gradient_b = np.mean(gradient_b)\n",
        "        return l, gradient_w, gradient_b\n",
        "    def update(self, gradient_w, gradient_b, lr):\n",
        "        self.w = self.w - lr * gradient_w\n",
        "        self.b = self.b - lr * gradient_b\n",
        "    def train(self, train_data, test_data, batch_size=10, epoch=10, lr=0.1):\n",
        "        train_loss = np.asarray([])\n",
        "        test_loss = np.asarray([])\n",
        "        np.random.shuffle(train_data)\n",
        "        if batch_size > train_data.shape[0]:\n",
        "            batch_size = train_data.shape[0]\n",
        "        x = train_data[:batch_size,:-1]\n",
        "        y = train_data[:batch_size,-1:]\n",
        "        for i in range(epoch):\n",
        "            train_l, gradient_w, gradient_b = self.gradient(x, y)\n",
        "            test_l = self.test_loss(test_data)\n",
        "            train_loss = np.append(train_loss, train_l)\n",
        "            test_loss = np.append(test_loss, test_l)\n",
        "            self.update(gradient_w, gradient_b, lr)\n",
        "            print('epoch {}\\ttrain loss: {}\\ttest loss:{}'.format(i+1, train_l, test_l))\n",
        "        return train_loss, test_loss\n",
        "    def test_loss(self, test_data):\n",
        "        x = test_data[:, :-1]\n",
        "        y = test_data[:, -1:]\n",
        "        z = self.forward(x)\n",
        "        return self.loss(z, y)\n",
        "            \n",
        "    def __str__(self):\n",
        "        return \"w is :\" + str(self.w) + '\\nb is:' + str(b)\n",
        "    "
      ],
      "execution_count": 179,
      "outputs": []
    },
    {
      "cell_type": "code",
      "metadata": {
        "colab": {
          "base_uri": "https://localhost:8080/",
          "height": 469
        },
        "id": "jFniLzrqSj9Z",
        "outputId": "515b4028-8345-4f36-d9ca-fb34d216a1d5"
      },
      "source": [
        "epoch = 9\n",
        "lr = 0.1\n",
        "batch_size = 30000\n",
        "net = SimpleNetwork(8)\n",
        "train_loss, test_loss = net.train(train_data, test_data, batch_size, epoch, lr)\n",
        "plt.plot(np.arange(epoch), train_loss, label='train loss')\n",
        "plt.plot(np.arange(epoch), test_loss, label='test loss')\n",
        "plt.legend()\n",
        "print('w:', net.w.reshape(w.shape[0]), '\\nb:', net.b)"
      ],
      "execution_count": 184,
      "outputs": [
        {
          "output_type": "stream",
          "text": [
            "epoch 1\ttrain loss: 2.253899196680952\ttest loss:2.2471722120101525\n",
            "epoch 2\ttrain loss: 1.6054250200118507\ttest loss:1.5988051535372985\n",
            "epoch 3\ttrain loss: 1.1595629608500224\ttest loss:1.1530637205909509\n",
            "epoch 4\ttrain loss: 0.8529023156454817\ttest loss:0.8465251256290646\n",
            "epoch 5\ttrain loss: 0.6418792514975711\ttest loss:0.6356186276790388\n",
            "epoch 6\ttrain loss: 0.49656492334858526\ttest loss:0.4904117811649458\n",
            "epoch 7\ttrain loss: 0.39639785218437257\ttest loss:0.3903415749156245\n",
            "epoch 8\ttrain loss: 0.3272520287898882\ttest loss:0.3212817210204265\n",
            "epoch 9\ttrain loss: 0.27942267349435823\ttest loss:0.2735278846410272\n",
            "w: [ 1.39371684  0.21694869  0.60181215  2.18467317  1.79814808 -1.01058886\n",
            "  0.88245304 -0.28601079] \n",
            "b: -0.6706873922000063\n"
          ],
          "name": "stdout"
        },
        {
          "output_type": "display_data",
          "data": {
            "image/png": "[encoded data removed]",
            "text/plain": [
              "<Figure size 432x288 with 1 Axes>"
            ]
          },
          "metadata": {
            "tags": [],
            "needs_background": "light"
          }
        }
      ]
    },
    {
      "cell_type": "code",
      "metadata": {
        "colab": {
          "base_uri": "https://localhost:8080/",
          "height": 154
        },
        "id": "LFwaYIJcHZmu",
        "outputId": "c574c9fc-0a09-42db-f863-ffbb14a5b312"
      },
      "source": [
        "\"\"\"\n",
        "# 调用上面定义的gradient函数，计算梯度\n",
        "# 初始化网络\n",
        "net = SimpleNetwork(8)\n",
        "# 设置[w5, w9] = [-100., -100.]\n",
        "net.w[5] = -100.0\n",
        "net.w[7] = -100.0\n",
        "\n",
        "z = net.forward(train_x)\n",
        "loss = net.loss(z, train_y)\n",
        "gradient_w, gradient_b = net.gradient(train_x, train_y)\n",
        "gradient_w5 = gradient_w[5][0]\n",
        "gradient_w7 = gradient_w[7][0]\n",
        "print('point {}, loss {}'.format([net.w[5][0], net.w[7][0]], loss))\n",
        "print('gradient {}'.format([gradient_w5, gradient_w7]))\n",
        "\n",
        "# 在[w5, w9]平面上，沿着梯度的反方向移动到下一个点P1\n",
        "# 定义移动步长 eta\n",
        "eta = 0.1\n",
        "# 更新参数w5和w9\n",
        "net.w[5] = net.w[5] - eta * gradient_w5\n",
        "net.w[7] = net.w[7] - eta * gradient_w7\n",
        "# 重新计算z和loss\n",
        "z = net.forward(train_x)\n",
        "loss = net.loss(z, y)\n",
        "gradient_w, gradient_b = net.gradient(train_x, train_y)\n",
        "gradient_w5 = gradient_w[5][0]\n",
        "gradient_w9 = gradient_w[7][0]\n",
        "print('point {}, loss {}'.format([net.w[5][0], net.w[7][0]], loss))\n",
        "print('gradient {}'.format([gradient_w5, gradient_w7]))\n",
        "\"\"\""
      ],
      "execution_count": 181,
      "outputs": [
        {
          "output_type": "execute_result",
          "data": {
            "application/vnd.google.colaboratory.intrinsic+json": {
              "type": "string"
            },
            "text/plain": [
              "\"\\n# 调用上面定义的gradient函数，计算梯度\\n# 初始化网络\\nnet = SimpleNetwork(8)\\n# 设置[w5, w9] = [-100., -100.]\\nnet.w[5] = -100.0\\nnet.w[7] = -100.0\\n\\nz = net.forward(train_x)\\nloss = net.loss(z, train_y)\\ngradient_w, gradient_b = net.gradient(train_x, train_y)\\ngradient_w5 = gradient_w[5][0]\\ngradient_w7 = gradient_w[7][0]\\nprint('point {}, loss {}'.format([net.w[5][0], net.w[7][0]], loss))\\nprint('gradient {}'.format([gradient_w5, gradient_w7]))\\n\\n# 在[w5, w9]平面上，沿着梯度的反方向移动到下一个点P1\\n# 定义移动步长 eta\\neta = 0.1\\n# 更新参数w5和w9\\nnet.w[5] = net.w[5] - eta * gradient_w5\\nnet.w[7] = net.w[7] - eta * gradient_w7\\n# 重新计算z和loss\\nz = net.forward(train_x)\\nloss = net.loss(z, y)\\ngradient_w, gradient_b = net.gradient(train_x, train_y)\\ngradient_w5 = gradient_w[5][0]\\ngradient_w9 = gradient_w[7][0]\\nprint('point {}, loss {}'.format([net.w[5][0], net.w[7][0]], loss))\\nprint('gradient {}'.format([gradient_w5, gradient_w7]))\\n\""
            ]
          },
          "metadata": {
            "tags": []
          },
          "execution_count": 181
        }
      ]
    },
    {
      "cell_type": "code",
      "metadata": {
        "id": "lK26yPhDdClC"
      },
      "source": [
        ""
      ],
      "execution_count": 181,
      "outputs": []
    }
  ]
}